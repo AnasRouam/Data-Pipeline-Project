{
 "cells": [
  {
   "cell_type": "code",
   "execution_count": null,
   "metadata": {},
   "outputs": [
    {
     "data": {
      "text/plain": [
       "'\\n\\nUSE AdventureWorksCustomDW\\n\\nCREATE TABLE FactSales (\\n\\tSalesOrderID INT PRIMARY KEY,\\n\\n\\tCityKey INT NOT NULL,\\n\\tDateKey INT NOT NULL,\\n\\tProductKey INT NOT NULL,\\n\\tSpecialOfferKey INT NOT NULL,\\n\\tSalesPersonKey INT NOT NULL,\\n\\n\\tOrderQty INT NOT NULL,\\n\\tSubTotal MONEY NOT NULL\\n);\\n\\nCREATE nonclustered index NI_CityKey ON FactSales (CityKey);\\nCREATE nonclustered index NI_DateKey ON FactSales (DateKey);\\nCREATE nonclustered index NI_ProductKey ON FactSales (ProductKey);\\nCREATE nonclustered index NI_SpecialOfferKey ON FactSales (SpecialOfferKey);\\nCREATE nonclustered index NI_SalesPersonKey ON FactSales (SalesPersonKey);\\n\\n'"
      ]
     },
     "execution_count": 1,
     "metadata": {},
     "output_type": "execute_result"
    }
   ],
   "source": [
    "\"\"\"\n",
    "USE AdventureWorksCustomDW\n",
    "\n",
    "CREATE TABLE FactSales (\n",
    "\tSalesOrderID INT PRIMARY KEY,\n",
    "\n",
    "\tCityKey INT NOT NULL,\n",
    "\tDateKey INT NOT NULL,\n",
    "\tProductKey INT NOT NULL,\n",
    "\tSpecialOfferKey INT NOT NULL,\n",
    "\tSalesPersonKey INT NOT NULL,\n",
    "\n",
    "\tOrderQty INT NOT NULL,\n",
    "\tSubTotal MONEY NOT NULL\n",
    ");\n",
    "\n",
    "\"\"\""
   ]
  },
  {
   "cell_type": "code",
   "execution_count": null,
   "metadata": {},
   "outputs": [],
   "source": [
    "\"\"\"\n",
    "CREATE nonclustered index NI_CityKey ON FactSales (CityKey);\n",
    "CREATE nonclustered index NI_DateKey ON FactSales (DateKey);\n",
    "CREATE nonclustered index NI_ProductKey ON FactSales (ProductKey);\n",
    "CREATE nonclustered index NI_SpecialOfferKey ON FactSales (SpecialOfferKey);\n",
    "CREATE nonclustered index NI_SalesPersonKey ON FactSales (SalesPersonKey);\n",
    "\"\"\""
   ]
  },
  {
   "cell_type": "code",
   "execution_count": null,
   "metadata": {},
   "outputs": [],
   "source": [
    "\"\"\"\n",
    "CREATE TABLE DimCity (\n",
    "    CityKey INT PRIMARY KEY,\n",
    "    CityName VARCHAR(50)\n",
    ")\n",
    "\n",
    "CREATE TABLE DimDate (\n",
    "    DateKey INT PRIMARY KEY,\n",
    "    Date DateTime\n",
    ")\n",
    "\n",
    "CREATE TABLE DimProduct (\n",
    "    ProductKey INT PRIMARY KEY,\n",
    "    ProductName VARCHAR(50),\n",
    "    ProductColor VARCHAR(20),\n",
    "    ProductSize VARCHAR(20),\n",
    "    ProductWeight DECIMAL(8,2),\n",
    ")\n",
    "\n",
    "CREATE TABLE DimSpecialOffer (\n",
    "    SpecialOfferKey INT PRIMARY KEY,\n",
    "    SpecialOfferType VARCHAR(50),\n",
    "    SpecialOfferCategory VARCHAR(50)\n",
    ")\n",
    "\n",
    "CREATE TABLE DimSalesPerson (\n",
    "    SalesPersonKey INT PRIMARY KEY,\n",
    "    SalesPersonName VARCHAR(100),\n",
    "    SalesPersonGender CHAR(1),\n",
    "    SalesPersonMaritalStatus CHAR(1),\n",
    "    SalesPersonHireDate Date\n",
    ")\n",
    "\"\"\""
   ]
  },
  {
   "cell_type": "code",
   "execution_count": null,
   "metadata": {},
   "outputs": [],
   "source": [
    "\"\"\"\n",
    "ALTER TABLE FactSales\n",
    "    ADD CONSTRAINT FK_FactSales_City FOREIGN KEY (CityKey) REFERENCES DimCity(CityKey),\n",
    "    CONSTRAINT FK_FactSales_Date FOREIGN KEY (DateKey) REFERENCES DimDate(DateKey),\n",
    "    CONSTRAINT FK_FactSales_Product FOREIGN KEY (ProductKey) REFERENCES DimProduct(ProductKey),\n",
    "    CONSTRAINT FK_FactSales_SpecialOffer FOREIGN KEY (SpecialOfferKey) REFERENCES DimSpecialOffer(SpecialOfferKey),\n",
    "    CONSTRAINT FK_FactSales_SalesPerson FOREIGN KEY (SalesPersonKey) REFERENCES DimSalesPerson(SalesPersonKey);\n",
    "\"\"\""
   ]
  },
  {
   "cell_type": "code",
   "execution_count": null,
   "metadata": {},
   "outputs": [],
   "source": [
    "\"\"\"\n",
    "CREATE TABLE StagingTable (\n",
    "    SalesOrderID INT UNIQUE NOT NULL, \n",
    "\n",
    "    CityID INT NOT NULL,\n",
    "\tCityName NVARCHAR(50),\n",
    "\n",
    "    DateID INT NOT NULL,\n",
    "\t[Date] DATETIME,\n",
    "\n",
    "    ProductID INT NOT NULL,\n",
    "\tProductName NVARCHAR(50),\n",
    "\tProductColor NVARCHAR(50),\n",
    "\tProductSize NVARCHAR(50),\n",
    "\tProductWeight NVARCHAR(50),\n",
    "\n",
    "\tSalesPersonID INT NOT NULL,\n",
    "\tSalesPersonName NVARCHAR(150),\n",
    "\tSalesPersonGender NCHAR(1),\n",
    "\tSalesPersonMaritalStatus NCHAR(1),\n",
    "\tSalesPersonHireDate DATE,\n",
    "\n",
    "    SpecialOfferID INT NOT NULL,\n",
    "\tSpecialOfferType NVARCHAR(50),\n",
    "\tSpecialOfferCategory NVARCHAR(50),\n",
    "\n",
    "    OrderQty INT,\n",
    "    SubTotal MONEY\n",
    ");\n",
    "\"\"\""
   ]
  },
  {
   "cell_type": "code",
   "execution_count": null,
   "metadata": {},
   "outputs": [],
   "source": [
    "\"\"\"\n",
    "INSERT INTO AdventureWorksCustomDW.dbo.StagingTable\n",
    "\n",
    "SELECT \n",
    "\tROW_NUMBER() OVER (ORDER BY s.SalesOrderID) AS SalesOrderID,\n",
    "\tad.City AS CityName,\n",
    "\ts.[OrderDate] AS [Date],\n",
    "\n",
    "\tpp.[Name] AS ProductName,\n",
    "\tpp.Color AS ProductColor,\n",
    "\tpp.Size AS ProductSize,\n",
    "\tpp.[Weight] AS ProductWeight, \n",
    "\n",
    "\t(ps.FirstName + ' ' + ps.LastName) AS SalesPersonName,\n",
    "\the.Gender AS SalesPersonGender, \n",
    "\the.MaritalStatus AS SalesPersonMaritalStatus,\n",
    "\the.HireDate AS SalesPersonHireDate, \n",
    "\n",
    "\tso.[Type] AS SpecialOfferType, \n",
    "\tso.Category AS SpecialOfferCategory, \n",
    "\n",
    "    sd.OrderQty, \n",
    "    sd.LineTotal AS SubTotal \n",
    "\n",
    "FROM Sales.SalesOrderHeader s\n",
    "LEFT JOIN Sales.SalesOrderDetail sd ON s.SalesOrderID = sd.SalesOrderID\n",
    "LEFT JOIN Person.[Address] ad ON s.BillToAddressID = ad.AddressID \n",
    "LEFT JOIN Production.[Product] pp ON sd.ProductID = pp.ProductID\n",
    "LEFT JOIN Sales.SpecialOffer so ON sd.SpecialOfferID = so.SpecialOfferID\n",
    "LEFT JOIN HumanResources.Employee he ON s.SalesPersonID = he.BusinessEntityID\n",
    "LEFT JOIN Person.Person ps ON s.SalesPersonID = ps.BusinessEntityID\n",
    "\"\"\""
   ]
  },
  {
   "cell_type": "code",
   "execution_count": null,
   "metadata": {},
   "outputs": [],
   "source": [
    "\"\"\"\n",
    "TRUNCATE TABLE FactSales\n",
    "\n",
    "ALTER TABLE FactSales DROP CONSTRAINT FK_FactSales_Date\n",
    "ALTER TABLE FactSales DROP CONSTRAINT FK_FactSales_City\n",
    "ALTER TABLE FactSales DROP CONSTRAINT FK_FactSales_SalesPerson\n",
    "ALTER TABLE FactSales DROP CONSTRAINT FK_FactSales_Product\n",
    "ALTER TABLE FactSales DROP CONSTRAINT FK_FactSales_SpecialOffer\n",
    "\n",
    "TRUNCATE TABLE DimDate\n",
    "TRUNCATE TABLE DimCity\n",
    "TRUNCATE TABLE DimSalesPerson\n",
    "TRUNCATE TABLE DimProduct\n",
    "TRUNCATE TABLE DimSpecialOffer\n",
    "\n",
    "ALTER TABLE FactSales\n",
    "ADD CONSTRAINT FK_FactSales_Date FOREIGN KEY (DateKey) REFERENCES DimDate (DateKey),\n",
    "CONSTRAINT FK_FactSales_City FOREIGN KEY (CityKey) REFERENCES DimCity (CityKey),\n",
    "CONSTRAINT FK_FactSales_SalesPerson FOREIGN KEY (SalesPersonKey) REFERENCES DimSalesPerson (SalesPersonKey),\n",
    "CONSTRAINT FK_FactSales_Product FOREIGN KEY (ProductKey) REFERENCES DimProduct (ProductKey),\n",
    "CONSTRAINT FK_FactSales_SpecialOffer FOREIGN KEY (SpecialOfferKey) REFERENCES DimSpecialOffer (SpecialOfferKey);\n",
    "\"\"\""
   ]
  },
  {
   "cell_type": "code",
   "execution_count": null,
   "metadata": {},
   "outputs": [],
   "source": [
    "\"\"\"\n",
    "WITH SalesPersonCTE AS (\n",
    "    SELECT DISTINCT SalesPersonName, SalesPersonGender, SalesPersonMaritalStatus, SalesPersonHireDate\n",
    "    FROM StagingTable\n",
    ")\n",
    "\n",
    "SELECT\n",
    "    ROW_NUMBER() OVER (ORDER BY SalesPersonName) AS SalesPersonKey,\n",
    "    SalesPersonName, SalesPersonGender, SalesPersonMaritalStatus, SalesPersonHireDate\n",
    "FROM SalesPersonCTE;\n",
    "\"\"\""
   ]
  },
  {
   "cell_type": "code",
   "execution_count": null,
   "metadata": {},
   "outputs": [],
   "source": [
    "\"\"\"\n",
    "SELECT st.SalesOrderID,\n",
    "\n",
    "\tdc.CityKey,\n",
    "\tdt.DateKey,\n",
    "\tdp.ProductKey,\n",
    "\tdso.SpecialOfferKey,\n",
    "\tdsp.SalesPersonKey,\n",
    "\n",
    "\tst.OrderQty,\n",
    "\tst.SubTotal\n",
    "\n",
    "FROM StagingTable st\n",
    "LEFT JOIN DimCity dc ON st.CityName = dc.CityName\n",
    "LEFT JOIN DimDate dt ON st.[Date] = dt.[Date]\n",
    "LEFT JOIN DimProduct dp ON st.ProductName = dp.ProductName\n",
    "LEFT JOIN DimSpecialOffer dso ON st.SpecialOfferType = dso.SpecialOfferType\n",
    "LEFT JOIN DimSalesPerson dsp ON st.SalesPersonName = dsp.SalesPersonName\n",
    "\n",
    "ORDER BY st.SalesOrderID\n",
    "\"\"\""
   ]
  }
 ],
 "metadata": {
  "kernelspec": {
   "display_name": "Python 3",
   "language": "python",
   "name": "python3"
  },
  "language_info": {
   "codemirror_mode": {
    "name": "ipython",
    "version": 3
   },
   "file_extension": ".py",
   "mimetype": "text/x-python",
   "name": "python",
   "nbconvert_exporter": "python",
   "pygments_lexer": "ipython3",
   "version": "3.10.11"
  }
 },
 "nbformat": 4,
 "nbformat_minor": 2
}
