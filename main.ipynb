{
 "cells": [
  {
   "cell_type": "code",
   "execution_count": 1,
   "metadata": {},
   "outputs": [
    {
     "data": {
      "text/plain": [
       "'\\n\\nUSE AdventureWorksCustomDW\\n\\nCREATE TABLE FactSales (\\n\\tSalesOrderID INT PRIMARY KEY,\\n\\n\\tCityKey INT NOT NULL,\\n\\tDateKey INT NOT NULL,\\n\\tProductKey INT NOT NULL,\\n\\tSpecialOfferKey INT NOT NULL,\\n\\tSalesPersonKey INT NOT NULL,\\n\\n\\tOrderQty INT NOT NULL,\\n\\tSubTotal MONEY NOT NULL\\n);\\n\\nCREATE nonclustered index NI_CityKey ON FactSales (CityKey);\\nCREATE nonclustered index NI_DateKey ON FactSales (DateKey);\\nCREATE nonclustered index NI_ProductKey ON FactSales (ProductKey);\\nCREATE nonclustered index NI_SpecialOfferKey ON FactSales (SpecialOfferKey);\\nCREATE nonclustered index NI_SalesPersonKey ON FactSales (SalesPersonKey);\\n\\n'"
      ]
     },
     "execution_count": 1,
     "metadata": {},
     "output_type": "execute_result"
    }
   ],
   "source": [
    "\"\"\"\n",
    "\n",
    "USE AdventureWorksCustomDW\n",
    "\n",
    "CREATE TABLE FactSales (\n",
    "\tSalesOrderID INT PRIMARY KEY,\n",
    "\n",
    "\tCityKey INT NOT NULL,\n",
    "\tDateKey INT NOT NULL,\n",
    "\tProductKey INT NOT NULL,\n",
    "\tSpecialOfferKey INT NOT NULL,\n",
    "\tSalesPersonKey INT NOT NULL,\n",
    "\n",
    "\tOrderQty INT NOT NULL,\n",
    "\tSubTotal MONEY NOT NULL\n",
    ");\n",
    "\n",
    "CREATE nonclustered index NI_CityKey ON FactSales (CityKey);\n",
    "CREATE nonclustered index NI_DateKey ON FactSales (DateKey);\n",
    "CREATE nonclustered index NI_ProductKey ON FactSales (ProductKey);\n",
    "CREATE nonclustered index NI_SpecialOfferKey ON FactSales (SpecialOfferKey);\n",
    "CREATE nonclustered index NI_SalesPersonKey ON FactSales (SalesPersonKey);\n",
    "\n",
    "\"\"\""
   ]
  },
  {
   "cell_type": "code",
   "execution_count": null,
   "metadata": {},
   "outputs": [],
   "source": []
  }
 ],
 "metadata": {
  "kernelspec": {
   "display_name": "Python 3",
   "language": "python",
   "name": "python3"
  },
  "language_info": {
   "codemirror_mode": {
    "name": "ipython",
    "version": 3
   },
   "file_extension": ".py",
   "mimetype": "text/x-python",
   "name": "python",
   "nbconvert_exporter": "python",
   "pygments_lexer": "ipython3",
   "version": "3.10.11"
  }
 },
 "nbformat": 4,
 "nbformat_minor": 2
}
